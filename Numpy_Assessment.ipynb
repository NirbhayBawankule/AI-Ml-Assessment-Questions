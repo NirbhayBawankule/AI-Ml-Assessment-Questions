{
  "nbformat": 4,
  "nbformat_minor": 0,
  "metadata": {
    "colab": {
      "provenance": []
    },
    "kernelspec": {
      "name": "python3",
      "display_name": "Python 3"
    },
    "language_info": {
      "name": "python"
    }
  },
  "cells": [
    {
      "cell_type": "code",
      "execution_count": null,
      "metadata": {
        "id": "8rlScv7S_9Qm"
      },
      "outputs": [],
      "source": [
        "import numpy as np"
      ]
    },
    {
      "cell_type": "code",
      "source": [
        "scores = np.array([45, 67, 89, 34, 90, 56, 77, 23, 61, 48])\n",
        "print(\"All Scores:\", scores)\n",
        "print(\"Scores > 50:\", scores[scores > 50])"
      ],
      "metadata": {
        "colab": {
          "base_uri": "https://localhost:8080/"
        },
        "id": "1-j_BzGQAHbB",
        "outputId": "646dd4a0-64bc-4b8c-9a47-e92eb867c1f3"
      },
      "execution_count": null,
      "outputs": [
        {
          "output_type": "stream",
          "name": "stdout",
          "text": [
            "All Scores: [45 67 89 34 90 56 77 23 61 48]\n",
            "Scores > 50: [67 89 90 56 77 61]\n"
          ]
        }
      ]
    },
    {
      "cell_type": "code",
      "source": [
        "print(\"Mean Score:\", np.mean(scores))"
      ],
      "metadata": {
        "colab": {
          "base_uri": "https://localhost:8080/"
        },
        "id": "AmuitYqmAJKq",
        "outputId": "e92bd7e9-6c2d-4c6e-9350-151e50cf1832"
      },
      "execution_count": null,
      "outputs": [
        {
          "output_type": "stream",
          "name": "stdout",
          "text": [
            "Mean Score: 59.0\n"
          ]
        }
      ]
    },
    {
      "cell_type": "code",
      "source": [
        "print(\"Median Score:\", np.median(scores))"
      ],
      "metadata": {
        "colab": {
          "base_uri": "https://localhost:8080/"
        },
        "id": "v23c_v2JALf2",
        "outputId": "aadff5ed-82d3-4656-8285-f6fc19ca2c41"
      },
      "execution_count": null,
      "outputs": [
        {
          "output_type": "stream",
          "name": "stdout",
          "text": [
            "Median Score: 58.5\n"
          ]
        }
      ]
    },
    {
      "cell_type": "code",
      "source": [
        "from scipy import stats\n",
        "\n",
        "mode_result = stats.mode(scores, keepdims=True)\n",
        "print(\"Mode Score:\", mode_result.mode[0])"
      ],
      "metadata": {
        "colab": {
          "base_uri": "https://localhost:8080/"
        },
        "id": "Jes-YnH7ANHM",
        "outputId": "5aa6e399-4ce5-48fe-de7e-68dd4d102381"
      },
      "execution_count": null,
      "outputs": [
        {
          "output_type": "stream",
          "name": "stdout",
          "text": [
            "Mode Score: 23\n"
          ]
        }
      ]
    },
    {
      "cell_type": "code",
      "source": [
        "temps = np.array([\n",
        "    [30, 32, 31, 29, 35, 36, 34],\n",
        "    [33, 34, 32, 31, 30, 29, 28],\n",
        "    [36, 35, 34, 33, 32, 31, 30],\n",
        "    [29, 28, 30, 31, 32, 33, 34]\n",
        "])\n",
        "print(\"Temperature Array:\\n\", temps)\n",
        "print(\"Week 2 Temps:\", temps[1])"
      ],
      "metadata": {
        "colab": {
          "base_uri": "https://localhost:8080/"
        },
        "id": "IKV2RhbvAT_c",
        "outputId": "c5168c6e-9774-412e-d34d-f7ef4ee77feb"
      },
      "execution_count": null,
      "outputs": [
        {
          "output_type": "stream",
          "name": "stdout",
          "text": [
            "Temperature Array:\n",
            " [[30 32 31 29 35 36 34]\n",
            " [33 34 32 31 30 29 28]\n",
            " [36 35 34 33 32 31 30]\n",
            " [29 28 30 31 32 33 34]]\n",
            "Week 2 Temps: [33 34 32 31 30 29 28]\n"
          ]
        }
      ]
    },
    {
      "cell_type": "code",
      "source": [
        "print(\"Max Temperature:\", np.max(temps))"
      ],
      "metadata": {
        "colab": {
          "base_uri": "https://localhost:8080/"
        },
        "id": "xFrPx6xZAWLm",
        "outputId": "567e90da-69f9-44d6-dc2d-85efba146f4a"
      },
      "execution_count": null,
      "outputs": [
        {
          "output_type": "stream",
          "name": "stdout",
          "text": [
            "Max Temperature: 36\n"
          ]
        }
      ]
    },
    {
      "cell_type": "code",
      "source": [
        "min_temp = np.min(temps)\n",
        "max_temp = np.max(temps)\n",
        "normalized = (temps - min_temp) / (max_temp - min_temp)\n",
        "print(\"Normalized Temps:\\n\", normalized)"
      ],
      "metadata": {
        "colab": {
          "base_uri": "https://localhost:8080/"
        },
        "id": "dI54pWYbAYRo",
        "outputId": "784b3a8b-175e-4317-c557-cc6a1c65ea39"
      },
      "execution_count": null,
      "outputs": [
        {
          "output_type": "stream",
          "name": "stdout",
          "text": [
            "Normalized Temps:\n",
            " [[0.25  0.5   0.375 0.125 0.875 1.    0.75 ]\n",
            " [0.625 0.75  0.5   0.375 0.25  0.125 0.   ]\n",
            " [1.    0.875 0.75  0.625 0.5   0.375 0.25 ]\n",
            " [0.125 0.    0.25  0.375 0.5   0.625 0.75 ]]\n"
          ]
        }
      ]
    },
    {
      "cell_type": "code",
      "source": [
        "print(\"Standard Deviation:\", np.std(temps))"
      ],
      "metadata": {
        "colab": {
          "base_uri": "https://localhost:8080/"
        },
        "id": "Rvz14OaiAZ5n",
        "outputId": "8f548898-1f03-4d4f-a11d-05dcbf274ffc"
      },
      "execution_count": null,
      "outputs": [
        {
          "output_type": "stream",
          "name": "stdout",
          "text": [
            "Standard Deviation: 2.294625486315573\n"
          ]
        }
      ]
    },
    {
      "cell_type": "code",
      "source": [
        "stock = np.random.randint(10, 100, size=(4, 3, 5))\n",
        "print(\"2nd Product in Week 3 Stock:\", stock[2, 1])"
      ],
      "metadata": {
        "colab": {
          "base_uri": "https://localhost:8080/"
        },
        "id": "mTctM_CKAbi6",
        "outputId": "33ae2d85-e65e-46f4-f72f-82171a25944a"
      },
      "execution_count": null,
      "outputs": [
        {
          "output_type": "stream",
          "name": "stdout",
          "text": [
            "2nd Product in Week 3 Stock: [79 17 93 63 87]\n"
          ]
        }
      ]
    },
    {
      "cell_type": "code",
      "source": [
        "total_per_product = np.sum(stock, axis=(0, 2))\n",
        "print(\"Total Stock per Product:\", total_per_product)"
      ],
      "metadata": {
        "colab": {
          "base_uri": "https://localhost:8080/"
        },
        "id": "FCdPJeN9AhDh",
        "outputId": "fa01b130-d599-4d10-e561-257196de34a8"
      },
      "execution_count": null,
      "outputs": [
        {
          "output_type": "stream",
          "name": "stdout",
          "text": [
            "Total Stock per Product: [1225 1147 1234]\n"
          ]
        }
      ]
    },
    {
      "cell_type": "code",
      "source": [
        "ratings = np.random.randint(1, 11, 50)\n",
        "print(\"Ratings > 7:\", np.sum(ratings > 7))"
      ],
      "metadata": {
        "colab": {
          "base_uri": "https://localhost:8080/"
        },
        "id": "8N5fDdkmAklP",
        "outputId": "9cdfe0e0-0394-4244-aa8e-05a1979acd9c"
      },
      "execution_count": null,
      "outputs": [
        {
          "output_type": "stream",
          "name": "stdout",
          "text": [
            "Ratings > 7: 11\n"
          ]
        }
      ]
    },
    {
      "cell_type": "code",
      "source": [
        "print(\"Neutral Ratings (==5):\", np.sum(ratings == 5))"
      ],
      "metadata": {
        "colab": {
          "base_uri": "https://localhost:8080/"
        },
        "id": "CwhWfH5sAmQ8",
        "outputId": "1bb2ad4b-9978-474b-834a-3719c06aa1b7"
      },
      "execution_count": null,
      "outputs": [
        {
          "output_type": "stream",
          "name": "stdout",
          "text": [
            "Neutral Ratings (==5): 6\n"
          ]
        }
      ]
    },
    {
      "cell_type": "code",
      "source": [
        "norm_ratings = (ratings - np.min(ratings)) / (np.max(ratings) - np.min(ratings))\n",
        "print(\"Normalized Ratings:\\n\", norm_ratings)"
      ],
      "metadata": {
        "colab": {
          "base_uri": "https://localhost:8080/"
        },
        "id": "8H1IHRKIAn-6",
        "outputId": "167dd717-1b18-4397-c324-ffcb1c4d9997"
      },
      "execution_count": null,
      "outputs": [
        {
          "output_type": "stream",
          "name": "stdout",
          "text": [
            "Normalized Ratings:\n",
            " [0.66666667 0.77777778 0.55555556 0.22222222 0.11111111 0.44444444\n",
            " 0.11111111 0.44444444 1.         0.44444444 0.88888889 0.66666667\n",
            " 0.88888889 0.55555556 0.77777778 0.         0.11111111 0.44444444\n",
            " 0.22222222 0.88888889 0.33333333 0.         0.33333333 0.66666667\n",
            " 0.22222222 0.88888889 0.22222222 0.66666667 0.66666667 0.33333333\n",
            " 0.11111111 0.22222222 0.         0.11111111 0.66666667 1.\n",
            " 0.33333333 0.77777778 0.44444444 0.11111111 0.77777778 1.\n",
            " 0.33333333 0.66666667 0.44444444 0.11111111 0.22222222 0.66666667\n",
            " 0.22222222 0.22222222]\n"
          ]
        }
      ]
    },
    {
      "cell_type": "code",
      "source": [
        "steps = np.random.randint(4000, 10000, size=(5, 7))  # 5 users × 7 days\n",
        "avg_steps = np.mean(steps, axis=1)\n",
        "print(\"Avg Steps/User:\", avg_steps)"
      ],
      "metadata": {
        "colab": {
          "base_uri": "https://localhost:8080/"
        },
        "id": "ieiXFKVfAqxU",
        "outputId": "224bcd99-3744-4d20-ef20-2b020bfdb2d1"
      },
      "execution_count": null,
      "outputs": [
        {
          "output_type": "stream",
          "name": "stdout",
          "text": [
            "Avg Steps/User: [8151.         7080.71428571 6646.14285714 6351.42857143 7054.85714286]\n"
          ]
        }
      ]
    },
    {
      "cell_type": "code",
      "source": [
        "print(\"Steps on Day 3:\", steps[:, 2])"
      ],
      "metadata": {
        "colab": {
          "base_uri": "https://localhost:8080/"
        },
        "id": "nGYz_VDhAsyV",
        "outputId": "34f3cd41-cdcc-4ef4-a253-7f15a3c962bf"
      },
      "execution_count": null,
      "outputs": [
        {
          "output_type": "stream",
          "name": "stdout",
          "text": [
            "Steps on Day 3: [9562 9451 6439 5523 9303]\n"
          ]
        }
      ]
    },
    {
      "cell_type": "code",
      "source": [
        "active_users = np.any(steps > 7000, axis=1)\n",
        "print(\"Users walked >7000 steps:\", active_users)"
      ],
      "metadata": {
        "colab": {
          "base_uri": "https://localhost:8080/"
        },
        "id": "TRhQz0jsAvA9",
        "outputId": "032507db-262e-41cb-817d-e029cbb4378b"
      },
      "execution_count": null,
      "outputs": [
        {
          "output_type": "stream",
          "name": "stdout",
          "text": [
            "Users walked >7000 steps: [ True  True  True  True  True]\n"
          ]
        }
      ]
    },
    {
      "cell_type": "code",
      "source": [
        "chem_trials = np.random.rand(10, 3) * 100\n",
        "mean_per_chemical = np.mean(chem_trials, axis=0)\n",
        "print(\"Mean per Chemical:\", mean_per_chemical)"
      ],
      "metadata": {
        "colab": {
          "base_uri": "https://localhost:8080/"
        },
        "id": "xTJsU-FpAwjb",
        "outputId": "a0a5f6b1-fbd7-4063-ab5c-891371b5a37d"
      },
      "execution_count": null,
      "outputs": [
        {
          "output_type": "stream",
          "name": "stdout",
          "text": [
            "Mean per Chemical: [35.93161154 44.24777797 59.67222308]\n"
          ]
        }
      ]
    },
    {
      "cell_type": "code",
      "source": [
        "deviation = np.abs(chem_trials - np.mean(chem_trials, axis=0))\n",
        "max_dev_trial = np.argmax(deviation, axis=0)\n",
        "print(\"Trial with max deviation:\", max_dev_trial)"
      ],
      "metadata": {
        "colab": {
          "base_uri": "https://localhost:8080/"
        },
        "id": "FhyrGYieAyNl",
        "outputId": "6b99b665-fe8a-4e57-b82c-fcfb39089d82"
      },
      "execution_count": null,
      "outputs": [
        {
          "output_type": "stream",
          "name": "stdout",
          "text": [
            "Trial with max deviation: [5 4 5]\n"
          ]
        }
      ]
    },
    {
      "cell_type": "code",
      "source": [
        "vitals = np.random.rand(2, 5, 3) * 100\n",
        "print(\"Patient 1, Day 4 Vitals:\", vitals[0, 3])"
      ],
      "metadata": {
        "colab": {
          "base_uri": "https://localhost:8080/"
        },
        "id": "a9_KZ35nAzqt",
        "outputId": "d332f7ae-1f86-483c-c2bf-e195dd2c7bd9"
      },
      "execution_count": null,
      "outputs": [
        {
          "output_type": "stream",
          "name": "stdout",
          "text": [
            "Patient 1, Day 4 Vitals: [24.89865874 55.51784929  3.9566255 ]\n"
          ]
        }
      ]
    },
    {
      "cell_type": "code",
      "source": [
        "vital_values = vitals[0, :, 1]\n",
        "vital_mode = stats.mode(vital_values, keepdims=True)\n",
        "print(\"Mode of Vital Sign 1 for Patient 0:\", vital_mode.mode[0])"
      ],
      "metadata": {
        "colab": {
          "base_uri": "https://localhost:8080/"
        },
        "id": "KMXOGNhVA4JN",
        "outputId": "9cfb067d-e88d-4265-ca8d-c927fb324d1a"
      },
      "execution_count": null,
      "outputs": [
        {
          "output_type": "stream",
          "name": "stdout",
          "text": [
            "Mode of Vital Sign 1 for Patient 0: 14.72842757510675\n"
          ]
        }
      ]
    },
    {
      "cell_type": "code",
      "source": [],
      "metadata": {
        "id": "PQ9jYaV4A54c"
      },
      "execution_count": null,
      "outputs": []
    }
  ]
}